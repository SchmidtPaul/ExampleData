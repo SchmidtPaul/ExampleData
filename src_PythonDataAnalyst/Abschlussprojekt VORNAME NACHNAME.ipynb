{
 "cells": [
  {
   "cell_type": "markdown",
   "id": "d6994045-e67a-4df1-b88c-1395dcd3d99b",
   "metadata": {},
   "source": [
    "# Abschlussprojekt\n",
    "\n",
    "Dies ist das Abschlussprojekt des Online-Kurses [\"Data Analytics mit Python\"](https://dataanalyticsmitpython.netlify.app/).  Zugehörige Dateien finden sich im [Kapitel \"ABSCHLUSSPROJEKT\"](https://dataanalyticsmitpython.netlify.app/kap/a03).\n",
    "\n",
    "Der gesamte Code zur Umsetzung soll wie schon in den vorangegangenen Aufgaben in dieser Datei ergänzt und dann an paul.schmidt@biomath.de geschickt werden. Dieses Projekt unterscheidet sich von den vorangegangenen Aufgaben dahingehend, dass deutlich mehr Freiraum für eigene Ideen und Methoden zur Lösung gegeben werden bzw. die eigentliche Aufgabe ungenauer formuliert wird."
   ]
  },
  {
   "cell_type": "markdown",
   "id": "e9cae5ac-1403-4bac-b722-1af4d64b7a70",
   "metadata": {},
   "source": [
    "## Teil 1: Import\n",
    "\n",
    "Grundlage für das Projekt sind folgende Dateien, die im selben Ordner wie diese Datei abgelegt werden müssen:\n",
    "\n",
    "- `daten1.xlsx`\n",
    "- `daten2.xlsx`\n",
    "\n",
    "Es sei lediglich gesagt, dass es sich um zwei Dateien handelt, die bzgl. ihrer Struktur identisch sind, allerdings Informationen zu verschiedenen Jahren enthalten. Was für Informationen genau enthalten sind und z.B. um welches Jahr es sich jeweils handelt soll selbstständig ermittelt werden, indem man sich die Dateien erstmal in Microsoft Excel anschaut. (Aber Achtung: Excel-Dateien müssen geschlossen werden bzw. dürfen nicht geöffnet sein in dem Moment, in dem man sie mit Python importieren möchte.) Die Informationen sind also verteilt über verschiedene Tabellenblätter in verschiedenen Excel-Dateien. Ziel ist aber alle Daten in einen einzigen DataFrame mit der Struktur zu bringen wie sie im Screenshot im Online-Material im Kapitel \"ABSCHLUSSPROJEKT\" gezeigt ist.\n",
    "\n",
    "Dabei ist prinzipiell egal mit wie viel Schritten und Zeilen Code dies erreicht wird, allerdings ist hierunter als Inspiration ein Teil der Musterlösung vorgegeben. Es sei aber nochmals betont, dass dies nur ein Vorschlag ist und nichts davon im letztendlich verwendeten Code auftauchen muss. Die Hauptsache ist, dass am Ende genau der DataFrame erzeugt wird, der in dem Screenshot abgebildet ist. In Worten ausgedrückt muss er also 572 Zeilen und 5 Spalten haben, wobei die Spaltennamen lauten Year, Gender, Industry, Occupation und Count. Der Inhalt entspricht dem aufbereiteten Inhalt aus den verschiedenen Tabellenblättern in den verschiedenen Excel-Dateien.\n",
    "\n",
    "\n",
    "**-----Beginn Teil der Musterlösung-----**\n",
    "```py\n",
    "pfad_list = ['daten1.xlsx', 'daten2.xlsx']\n",
    "\n",
    "df_combined = pd.DataFrame()\n",
    "\n",
    "for pfad in pfad_list:\n",
    "    ???\n",
    "\n",
    "    for sheet in ['Men', 'Women']:\n",
    "        ???\n",
    "\n",
    "df_combined\n",
    "```\n",
    "**-----Ende Teil der Musterlösung-----**"
   ]
  },
  {
   "cell_type": "code",
   "execution_count": 2,
   "id": "cd0c5aaa",
   "metadata": {},
   "outputs": [],
   "source": [
    "# Teil 1\n",
    "\n"
   ]
  },
  {
   "cell_type": "markdown",
   "id": "eeff0874-f099-4930-b3e3-d3575b9dcf26",
   "metadata": {},
   "source": [
    "## Teil 2: Ein interessanter Vergleich\n",
    "\n",
    "Nun, da die Daten in einem leicht analysierbaren Format sind, soll selbstständig ein wenig mit den Daten herumgespielt werden um einen bestimmten Vergleich/Aspekt zu identifizieren und ihn dann zu beleuchten. Damit ist gemeint, dass dann hierunter eine Art Mini-Bericht verfasst wird, der folgende Komponenten enthalten muss:\n",
    "\n",
    "- Eine Überschrift\n",
    "- Ein Balkendiagramm mit mindestens 5 Balken\n",
    "- Eine weitere Abbildung\n",
    "- Eine Tabelle\n",
    "- Einen Textabschnitt mit mindestens 3 Sätzen\n",
    "\n",
    "Diese Komponenten sollen gemeinsam einen interessanten Aspekt aus den Daten beleuchten und prägnant darstellen, sodass Personen ohne Wissen über diese Daten schnell und gut über diesen einen Aspekt informiert werden. Die Wahl des Aspekts ist dabei frei. \n",
    "\n",
    "Anmerkung 1: Falls noch immer vollkommen unklar ist, was hier gefordert ist, soll nochmal in Kapitel \"6.1 Vergleiche\" im Abschnitt \"AirBnB-Daten\" geschaut werden. Der AirBnB-Datensatz hat sehr viele Spalten und Zeilen, sodass eine Vielzahl an möglichen Aspekten beleuchtet werden kann. Doch für den letztendlich gezeigten Vergleiche der Preise in den Nachbarschaften *East New York* und *Harlem* mittels Boxplots/Dotplots wurde nur ein kleiner Teil der Daten benötigt. Analog dazu soll eben auch hier versucht werden eine sinnige/interessante/auffällige Information aufbereitet werden. Es ist also eine kleine Übung im [Data Storytelling](https://www.wikiwand.com/de/Data_Storytelling). Streng genommen geht es auch nicht wirklich darum, dass wir den Aspekt tatsächlich interessant finden - eher darum, dass ein bestimmter Aspekt herauskristallisiert und eben gut beleuchtet wird."
   ]
  },
  {
   "cell_type": "code",
   "execution_count": 4,
   "id": "c4d00472-ade2-4d7f-8991-8cda0ee92744",
   "metadata": {},
   "outputs": [],
   "source": [
    "# Teil 2\n",
    "\n"
   ]
  }
 ],
 "metadata": {
  "kernelspec": {
   "display_name": "Python 3",
   "language": "python",
   "name": "python3"
  },
  "language_info": {
   "codemirror_mode": {
    "name": "ipython",
    "version": 3
   },
   "file_extension": ".py",
   "mimetype": "text/x-python",
   "name": "python",
   "nbconvert_exporter": "python",
   "pygments_lexer": "ipython3",
   "version": "3.8.8"
  }
 },
 "nbformat": 4,
 "nbformat_minor": 5
}
