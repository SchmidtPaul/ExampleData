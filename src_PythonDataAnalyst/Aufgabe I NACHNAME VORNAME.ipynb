{
 "cells": [
  {
   "cell_type": "markdown",
   "id": "be5d7e58",
   "metadata": {},
   "source": [
    "# Aufgabe I"
   ]
  },
  {
   "cell_type": "markdown",
   "id": "62505f89",
   "metadata": {},
   "source": [
    "Alle nötigen Informationen rund um das Lösen und Einreichen der Aufgabe befindet sich im Kapitel **Aufgabe I** des Online-Materials."
   ]
  },
  {
   "cell_type": "markdown",
   "id": "5c31a41c",
   "metadata": {},
   "source": [
    "## Teil A"
   ]
  },
  {
   "cell_type": "markdown",
   "id": "36fa3db5",
   "metadata": {},
   "source": [
    "- A1: Erstelle eine Liste `original_liste` mit 5 unterschiedlichen ganzen Zahlen. [1P]\n",
    "- A2: Füge der `original_liste` zwei weitere ganze Zahlen hinzu. [1P]\n",
    "- A3: Erstelle eine neue Liste `modifizierte_liste`, die eine tiefe Kopie von `original_liste` ist und füge dieser Liste eine weitere eindeutige ganze Zahl hinzu. [1P]\n",
    "- A4: Entferne das zweite Element aus `original_liste`. [1P]\n",
    "- A5: Kehre die Reihenfolge der Elemente in `modifizierte_liste` um. [1P]\n",
    "- A6: Erstelle eine Liste `ergebnis_liste`, die die Summe, das Minimum und das Maximum von `modifizierte_liste` enthält. [1P]"
   ]
  },
  {
   "cell_type": "code",
   "execution_count": null,
   "id": "dcd46799",
   "metadata": {},
   "outputs": [],
   "source": [
    "# A1\n",
    "\n",
    "print(original_liste)"
   ]
  },
  {
   "cell_type": "code",
   "execution_count": null,
   "id": "9110c36b",
   "metadata": {},
   "outputs": [],
   "source": [
    "# A2\n",
    "\n",
    "print(original_liste)"
   ]
  },
  {
   "cell_type": "code",
   "execution_count": null,
   "id": "cae3d56e",
   "metadata": {},
   "outputs": [],
   "source": [
    "# A3\n",
    "\n",
    "print(modifizierte_liste)"
   ]
  },
  {
   "cell_type": "code",
   "execution_count": null,
   "id": "23b54183",
   "metadata": {},
   "outputs": [],
   "source": [
    "# A4\n",
    "\n",
    "print(original_liste)"
   ]
  },
  {
   "cell_type": "code",
   "execution_count": null,
   "id": "d2e223de",
   "metadata": {},
   "outputs": [],
   "source": [
    "# A5\n",
    "\n",
    "print(modifizierte_liste)"
   ]
  },
  {
   "cell_type": "code",
   "execution_count": null,
   "id": "6b2d51cc",
   "metadata": {},
   "outputs": [],
   "source": [
    "# A6\n",
    "\n",
    "print(ergebnis_liste)"
   ]
  },
  {
   "cell_type": "markdown",
   "id": "3c558d87",
   "metadata": {},
   "source": [
    "## Teil B"
   ]
  },
  {
   "cell_type": "markdown",
   "id": "8949acc9",
   "metadata": {},
   "source": [
    "- B1: Erstelle eine Liste `temperaturen_celsius` mit 5 verschiedenen Temperaturwerten in Celsius.\n",
    "- B2: Verwende eine if-else-Anweisung, um eine neue Liste `komfort_stufe` zu erstellen, die für jeden Wert in `temperaturen_celsius` den String \"angenehm\" enthält, wenn die Temperatur zwischen 18 und 22 Grad liegt, \"kalt\" wenn unter 18 Grad, und \"warm\" für Temperaturen über 22 Grad.\n",
    "- B3: Benutze List Comprehension, um eine Liste `temperaturen_fahrenheit` zu erstellen, die alle Werte aus `temperaturen_celsius` in Fahrenheit umrechnet (Formel: $F = C * 1.8 + 32)$"
   ]
  },
  {
   "cell_type": "code",
   "execution_count": null,
   "id": "bb443186",
   "metadata": {},
   "outputs": [],
   "source": [
    "# B1\n",
    "\n",
    "print(temperaturen_celsius)"
   ]
  },
  {
   "cell_type": "code",
   "execution_count": null,
   "id": "bc26586c",
   "metadata": {},
   "outputs": [],
   "source": [
    "# B2\n",
    "\n",
    "print(komfort_stufe)"
   ]
  },
  {
   "cell_type": "code",
   "execution_count": null,
   "id": "1339a303",
   "metadata": {},
   "outputs": [],
   "source": [
    "# B3\n",
    "\n",
    "print(temperaturen_fahrenheit)"
   ]
  },
  {
   "cell_type": "markdown",
   "id": "da8bafe7",
   "metadata": {},
   "source": [
    "## Teil C"
   ]
  },
  {
   "cell_type": "markdown",
   "id": "896a8e9d",
   "metadata": {},
   "source": [
    "Gegeben seien die Umsatzzahlen (in 1.000€) eines Fahrradunternehmens:"
   ]
  },
  {
   "cell_type": "code",
   "execution_count": null,
   "id": "2e2f98d0",
   "metadata": {},
   "outputs": [],
   "source": [
    "umsatz = {\n",
    "    'Januar': 80, 'Februar': 85, 'März': 90,\n",
    "    'April': 100, 'Mai': 110, 'Juni': 150,\n",
    "    'Juli': 160, 'August': 155, 'September': 120,\n",
    "    'Oktober': 110, 'November': 95, 'Dezember': 90\n",
    "}"
   ]
  },
  {
   "cell_type": "markdown",
   "id": "5e48f604",
   "metadata": {},
   "source": [
    "Stelle dir vor dein Chef hat gefragt wie sich die Umsatzzahlen vom Sommer von den nicht-im-Sommer unterscheiden. \n",
    "- C1: Extrahiere aus diesen Daten nur die Umsätze für Sommer (Juni-August) und für den Rest des Jahres (September-Mai) und speichere sie jeweils als `ndarray` in die Variablen `umsatz_sommer` und `umsatz_rest`.\n",
    "- C2: Berechne und *printe* je Array zwei Lagemaße und zwei Streuungsmaße. \n",
    "- C3: Schreibe einen Satz (in einer Markdown-Zelle), der diese Ergebnisse kurz und knackig beurteilt. Er soll so formuliert sein, dass er z.B. in einer PowerPoint-Präsentation als zusammengefasste Antwort auf die Frage deines Chefs stehen könnte.\n",
    "- C4: Erstelle für Sommer- und Nicht-Sommer-Monate je einen Box-Plot der Umsatzzahlen.\n",
    "- C5: Erstelle für Sommer- und Nicht-Sommer-Monate je einen Dot-Plot der Umsatzzahlen.\n",
    "\n",
    "Sorge dafür, dass alle y-Achsen der Diagramme gleich skaliert und gleich gelabelt sind."
   ]
  },
  {
   "cell_type": "code",
   "execution_count": null,
   "id": "41e10346",
   "metadata": {},
   "outputs": [],
   "source": [
    "# C1\n",
    "\n",
    "print(umsatz_sommer)\n",
    "print(umsatz_rest)"
   ]
  },
  {
   "cell_type": "code",
   "execution_count": null,
   "id": "c134e27e",
   "metadata": {},
   "outputs": [],
   "source": [
    "# C2\n"
   ]
  },
  {
   "cell_type": "code",
   "execution_count": null,
   "id": "1aae7b8a",
   "metadata": {},
   "outputs": [],
   "source": [
    "# C3 (Achtung: Markdown-Zelle gefordert)"
   ]
  },
  {
   "cell_type": "code",
   "execution_count": null,
   "id": "3fc594f7",
   "metadata": {},
   "outputs": [],
   "source": [
    "# C4\n"
   ]
  },
  {
   "cell_type": "code",
   "execution_count": null,
   "id": "2421c7e7",
   "metadata": {},
   "outputs": [],
   "source": [
    "# C5"
   ]
  }
 ],
 "metadata": {
  "kernelspec": {
   "display_name": "Python 3",
   "language": "python",
   "name": "python3"
  },
  "language_info": {
   "codemirror_mode": {
    "name": "ipython",
    "version": 3
   },
   "file_extension": ".py",
   "mimetype": "text/x-python",
   "name": "python",
   "nbconvert_exporter": "python",
   "pygments_lexer": "ipython3",
   "version": "3.8.8"
  }
 },
 "nbformat": 4,
 "nbformat_minor": 5
}
