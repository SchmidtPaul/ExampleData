{
 "cells": [
  {
   "cell_type": "markdown",
   "id": "be5d7e58",
   "metadata": {},
   "source": [
    "# Aufgabe II"
   ]
  },
  {
   "cell_type": "markdown",
   "id": "62505f89",
   "metadata": {},
   "source": [
    "Alle nötigen Informationen rund um das Lösen und Einreichen der Aufgabe befindet sich im Kapitel **Aufgabe I** (und Aufgabe II) des Online-Materials."
   ]
  },
  {
   "cell_type": "markdown",
   "id": "36fa3db5",
   "metadata": {},
   "source": [
    "Folgende drei Datensätze enthalten Informationen über einige Restaurants, die 2018/2019 mit einem, zwei oder drei Michelin-Sternen ausgezeichnet wurden. Alle drei liegen als CSV-Dateien vor und können entweder direkt über die folgenden URLs importiert werden, oder aber auch von [hier](https://github.com/SchmidtPaul/ExampleData/tree/main/michelin) heruntergeladen werden um dann lokal importiert zu werden. So oder so sollen alle drei Datensätze jeweils importiert werden, sodass drei separate DataFrames vorliegen mit denen dann die unten folgenden Fragen beantwortet werden können. An den Dateinamen (siehe Ende des jeweilige Pfads) ist zu erkennen in welchem Datensatz jeweils Daten zu Restaurants mit einem, zwei oder drei Sternen vorliegen."
   ]
  },
  {
   "cell_type": "code",
   "execution_count": 1,
   "id": "dcd46799",
   "metadata": {},
   "outputs": [],
   "source": [
    "pfad1 = 'https://raw.githubusercontent.com/SchmidtPaul/ExampleData/main/michelin/one-star-michelin-restaurants.csv'\n",
    "pfad2 = 'https://raw.githubusercontent.com/SchmidtPaul/ExampleData/main/michelin/two-stars-michelin-restaurants.csv'\n",
    "pfad3 = 'https://raw.githubusercontent.com/SchmidtPaul/ExampleData/main/michelin/three-stars-michelin-restaurants.csv'"
   ]
  },
  {
   "cell_type": "markdown",
   "id": "b6621567",
   "metadata": {},
   "source": [
    "- A1: Gegeben, dass die DataFrames bereits importiert sind: Erzeuge in einer einzigen Zeile Code einen NumPy Array mit jeweils dem frühesten Jahr pro Datensatz. (Der Array hat also die Länge 3.) Speichere den Array als `A1` und printe ihn. [**1P**]"
   ]
  },
  {
   "cell_type": "code",
   "execution_count": 2,
   "id": "bce20409",
   "metadata": {},
   "outputs": [],
   "source": [
    "# A1\n"
   ]
  },
  {
   "cell_type": "markdown",
   "id": "d6c4646b-a833-416f-9f8f-f2e7dceb6532",
   "metadata": {},
   "source": [
    "- A2: Wir wollen prüfen ob es bei den Restaurants mit einem Stern mehrere Einträge mit demselben Namen gibt. Tue dies, indem du einen Teildatensatz erzeugst, in welchem alle Datenzeilen von Restaurants enthalten sind, deren Namen mehrmals im Datensatz auftauchen. Sortiere diesen Teildatensatz nach den Namen der Restaurants, behalte ausschließlich die Spalten `name`, `city` und `region`, speichere ihn als `A2` und printe ihn. [**3P**]"
   ]
  },
  {
   "cell_type": "code",
   "execution_count": 3,
   "id": "6f0281e1",
   "metadata": {},
   "outputs": [],
   "source": [
    "# A2\n"
   ]
  },
  {
   "cell_type": "markdown",
   "id": "5372c1cf-4086-4add-ac0b-0d9c9473501e",
   "metadata": {},
   "source": [
    "- A3: Sorge dafür, dass mittels f-String folgender Satz/String erzeugt wird, dann aber mit den korrekten Werten statt der Fragezeichen: \"*Das nördlichste Restaurant mit zwei Michelin Sternen heißt ??? und liegt in der Stadt ???.*\" Speichere diesen Satz/String in `A3` und printe ihn. [**2P**]"
   ]
  },
  {
   "cell_type": "code",
   "execution_count": 4,
   "id": "9f2ec141",
   "metadata": {},
   "outputs": [],
   "source": [
    "# A3\n"
   ]
  },
  {
   "cell_type": "markdown",
   "id": "026ff53a-884e-4ec8-a5c2-abf2f63fb214",
   "metadata": {},
   "source": [
    "- A4: Nutze den Befehl `pd.concat()` um jeweils die `region` Spalte der drei Datensätze in eine einzige Pandas Series zusammenzuführen. Sorge zum einen dafür, dass keine *Region* mehrfach in dieser Series auftaucht und zum anderen, dass die *Regionen* alphabetisch sortiert sind. Speichere diese Series in `A4` und printe sie. [**2P**]"
   ]
  },
  {
   "cell_type": "code",
   "execution_count": 5,
   "id": "46f5cc19",
   "metadata": {},
   "outputs": [],
   "source": [
    "# A4\n"
   ]
  },
  {
   "cell_type": "markdown",
   "id": "e463b82f-39af-4a85-abd8-44f62f611677",
   "metadata": {},
   "source": [
    "- A5: Erzeuge einen Teildatensatz all der Restaurants mit zwei Sternen, deren `cuisine`-Bezeichnung mit 'Modern' beginnt, nicht aber das Wort 'cuisine' enthält. Nutze danach eine Funktion um die Anzahl Zeilen dieses Teildatensatzes zu ermitteln und in `A5` zu speichern und dann zu printen. [**2P**]"
   ]
  },
  {
   "cell_type": "code",
   "execution_count": 6,
   "id": "4ff203de-6e1f-4eea-9d11-176db1ba0bc2",
   "metadata": {},
   "outputs": [],
   "source": [
    "# A5\n"
   ]
  },
  {
   "cell_type": "markdown",
   "id": "be81f28e-0a1f-40e7-9afa-4c5d1c867ea3",
   "metadata": {},
   "source": [
    "- A6: Füge dem Datensatz der Restaurants mit einem Stern eine neue Spalte namens `is_western_hemisphere` hinzu, die `True` enthält, falls das Restaurant westlich des Nullmeridians liegt (Nullmeridian = Längengrad 0°, der durch Greenwich, London verläuft). Ansonstent sollte die Spalte `False` enthalten. Nutze dann u.a. `.groupby(???, as_index=False)` um zu zählen wie viele Restaurants es pro Kombination aus den Einträgen in `is_western_hemisphere` und `region` gibt. Speichere dieses Ergebnis als `temp_df`. Wende dann nochmals u.a. `group_by(???, as_index=False)` aber jetzt auf `temp_df` an, um herauszubekommen, ob es Regionen gibt, die Restaurants in mehr als einer Hemisphäre haben. Speichere dieses Ergebnis in `A6` und sortiere es absteigend nach der Anzahl Hemisphären, in denen die Regionen Restaurants haben. Printe schließlich `A6`. [**3P**]"
   ]
  },
  {
   "cell_type": "code",
   "execution_count": 7,
   "id": "7346d5c3-9053-4a34-afe1-70fb69cf1171",
   "metadata": {},
   "outputs": [],
   "source": [
    "# A6\n"
   ]
  }
 ],
 "metadata": {
  "kernelspec": {
   "display_name": "Python 3",
   "language": "python",
   "name": "python3"
  },
  "language_info": {
   "codemirror_mode": {
    "name": "ipython",
    "version": 3
   },
   "file_extension": ".py",
   "mimetype": "text/x-python",
   "name": "python",
   "nbconvert_exporter": "python",
   "pygments_lexer": "ipython3",
   "version": "3.8.8"
  }
 },
 "nbformat": 4,
 "nbformat_minor": 5
}
